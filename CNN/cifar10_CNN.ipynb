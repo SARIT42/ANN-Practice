{
  "nbformat": 4,
  "nbformat_minor": 0,
  "metadata": {
    "colab": {
      "name": "cifar10-CNN.ipynb",
      "provenance": [],
      "collapsed_sections": []
    },
    "kernelspec": {
      "name": "python3",
      "display_name": "Python 3"
    },
    "language_info": {
      "name": "python"
    },
    "accelerator": "GPU",
    "gpuClass": "standard"
  },
  "cells": [
    {
      "cell_type": "markdown",
      "source": [
        "First CNN model:"
      ],
      "metadata": {
        "id": "H7Et7UZaEd8Z"
      }
    },
    {
      "cell_type": "code",
      "execution_count": 51,
      "metadata": {
        "id": "ROhCca_jnpTP"
      },
      "outputs": [],
      "source": [
        "import tensorflow as tf\n",
        "from tensorflow.keras import datasets,layers,models\n",
        "import pandas as pd\n",
        "import numpy as np\n",
        "import matplotlib.pyplot as plt"
      ]
    },
    {
      "cell_type": "code",
      "source": [
        "(x_train,y_train),(x_test,y_test)= datasets.cifar10.load_data()"
      ],
      "metadata": {
        "id": "ChINj-mdpOQN"
      },
      "execution_count": 2,
      "outputs": []
    },
    {
      "cell_type": "code",
      "source": [
        "x_train.shape ,y_train.shape\n"
      ],
      "metadata": {
        "colab": {
          "base_uri": "https://localhost:8080/"
        },
        "id": "Heasvhjrpqxc",
        "outputId": "12a4009f-ca43-4042-e67a-fcd72c471750"
      },
      "execution_count": 3,
      "outputs": [
        {
          "output_type": "execute_result",
          "data": {
            "text/plain": [
              "((50000, 32, 32, 3), (50000, 1))"
            ]
          },
          "metadata": {},
          "execution_count": 3
        }
      ]
    },
    {
      "cell_type": "code",
      "source": [
        "x_test.shape,y_test.shape"
      ],
      "metadata": {
        "colab": {
          "base_uri": "https://localhost:8080/"
        },
        "id": "S33A-pTfqaG6",
        "outputId": "b3e801c0-cdfd-46df-b821-5742bad65747"
      },
      "execution_count": 4,
      "outputs": [
        {
          "output_type": "execute_result",
          "data": {
            "text/plain": [
              "((10000, 32, 32, 3), (10000, 1))"
            ]
          },
          "metadata": {},
          "execution_count": 4
        }
      ]
    },
    {
      "cell_type": "code",
      "source": [
        "classes = ['airplane','automobile','bird','cat','deer','dog','frog','horse','ship','truck']"
      ],
      "metadata": {
        "id": "i4Zk7xS6rfBj"
      },
      "execution_count": 5,
      "outputs": []
    },
    {
      "cell_type": "markdown",
      "source": [
        "Checking for the 7th image in the training dataset"
      ],
      "metadata": {
        "id": "3hnGaqmisRaU"
      }
    },
    {
      "cell_type": "code",
      "source": [
        "plt.figure(figsize=(14,3))\n",
        "plt.imshow(x_train[7]);"
      ],
      "metadata": {
        "colab": {
          "base_uri": "https://localhost:8080/",
          "height": 212
        },
        "id": "QU9XAv8Sqfr5",
        "outputId": "6e1c44b8-a798-47d2-e90a-c501cafc9e4b"
      },
      "execution_count": 6,
      "outputs": [
        {
          "output_type": "display_data",
          "data": {
            "text/plain": [
              "<Figure size 1008x216 with 1 Axes>"
            ],
            "image/png": "[encoded data removed]"
          },
          "metadata": {
            "needs_background": "light"
          }
        }
      ]
    },
    {
      "cell_type": "code",
      "source": [
        "y_train[7]"
      ],
      "metadata": {
        "colab": {
          "base_uri": "https://localhost:8080/"
        },
        "id": "CmXGafg3qxsK",
        "outputId": "8dbcc39b-94be-4fb7-b6f2-1eb6b3e59a2c"
      },
      "execution_count": 7,
      "outputs": [
        {
          "output_type": "execute_result",
          "data": {
            "text/plain": [
              "array([7], dtype=uint8)"
            ]
          },
          "metadata": {},
          "execution_count": 7
        }
      ]
    },
    {
      "cell_type": "code",
      "source": [
        "#reshaping y into an 1D array\n",
        "y_train = y_train.reshape(-1,)\n",
        "y_train"
      ],
      "metadata": {
        "colab": {
          "base_uri": "https://localhost:8080/"
        },
        "id": "IxnrQW8ErBsr",
        "outputId": "e9bef6f2-10c6-4bf5-abed-f51a29747669"
      },
      "execution_count": 8,
      "outputs": [
        {
          "output_type": "execute_result",
          "data": {
            "text/plain": [
              "array([6, 9, 9, ..., 9, 1, 1], dtype=uint8)"
            ]
          },
          "metadata": {},
          "execution_count": 8
        }
      ]
    },
    {
      "cell_type": "code",
      "source": [
        "classes[y_train[7]]"
      ],
      "metadata": {
        "colab": {
          "base_uri": "https://localhost:8080/",
          "height": 36
        },
        "id": "W-R1ln13rQdD",
        "outputId": "01f09c28-3505-4b4f-bc2a-e52b3b6f1313"
      },
      "execution_count": 9,
      "outputs": [
        {
          "output_type": "execute_result",
          "data": {
            "text/plain": [
              "'horse'"
            ],
            "application/vnd.google.colaboratory.intrinsic+json": {
              "type": "string"
            }
          },
          "metadata": {},
          "execution_count": 9
        }
      ]
    },
    {
      "cell_type": "markdown",
      "source": [
        "Plotting some images with their labels"
      ],
      "metadata": {
        "id": "oE1UTDHosvFC"
      }
    },
    {
      "cell_type": "code",
      "source": [
        "def plot_sample(x,y,index):\n",
        "  plt.figure(figsize=(14,2))\n",
        "  plt.imshow(x[index])\n",
        "  plt.xlabel(classes[y[index]])"
      ],
      "metadata": {
        "id": "Q7T9sAYwsLjr"
      },
      "execution_count": 10,
      "outputs": []
    },
    {
      "cell_type": "code",
      "source": [
        "plot_sample(x_train,y_train,0)"
      ],
      "metadata": {
        "colab": {
          "base_uri": "https://localhost:8080/",
          "height": 173
        },
        "id": "ZEckKKKjtLfw",
        "outputId": "ea9b79cd-3a86-4c76-d80e-1684826f3645"
      },
      "execution_count": 11,
      "outputs": [
        {
          "output_type": "display_data",
          "data": {
            "text/plain": [
              "<Figure size 1008x144 with 1 Axes>"
            ],
            "image/png": "[encoded data removed]"
          },
          "metadata": {
            "needs_background": "light"
          }
        }
      ]
    },
    {
      "cell_type": "code",
      "source": [
        "plot_sample(x_train,y_train,1)"
      ],
      "metadata": {
        "colab": {
          "base_uri": "https://localhost:8080/",
          "height": 173
        },
        "id": "JvtgvYSatHzB",
        "outputId": "128ee445-53ba-4685-982e-4b5fb7ad18ba"
      },
      "execution_count": 12,
      "outputs": [
        {
          "output_type": "display_data",
          "data": {
            "text/plain": [
              "<Figure size 1008x144 with 1 Axes>"
            ],
            "image/png": "[encoded data removed]"
          },
          "metadata": {
            "needs_background": "light"
          }
        }
      ]
    },
    {
      "cell_type": "code",
      "source": [
        "plot_sample(x_train,y_train,77)"
      ],
      "metadata": {
        "colab": {
          "base_uri": "https://localhost:8080/",
          "height": 173
        },
        "id": "tt1CJ8QAtO25",
        "outputId": "ffff61ba-1254-489e-bd55-4b3dbc0d6da3"
      },
      "execution_count": 16,
      "outputs": [
        {
          "output_type": "display_data",
          "data": {
            "text/plain": [
              "<Figure size 1008x144 with 1 Axes>"
            ],
            "image/png": "[encoded data removed]"
          },
          "metadata": {
            "needs_background": "light"
          }
        }
      ]
    },
    {
      "cell_type": "markdown",
      "source": [
        "Normalize training Data"
      ],
      "metadata": {
        "id": "Or2UnVxqvu0n"
      }
    },
    {
      "cell_type": "code",
      "source": [
        "x_train = x_train / 255.0\n",
        "x_test = x_test / 255.0"
      ],
      "metadata": {
        "id": "miyC5ljKvyyo"
      },
      "execution_count": 14,
      "outputs": []
    },
    {
      "cell_type": "markdown",
      "source": [
        "Models:"
      ],
      "metadata": {
        "id": "SLoUckgrv3tT"
      }
    },
    {
      "cell_type": "code",
      "source": [
        "#ANN MODEL \n",
        "\n",
        "ann = models.Sequential([\n",
        "    layers.Flatten(input_shape=(32,32,3)),\n",
        "    layers.Dense(5000, activation='relu'),\n",
        "    layers.Dense(3000, activation='relu'),\n",
        "    layers.Dense(1000, activation='relu'),  \n",
        "    layers.Dense(10,activation='softmax')\n",
        "])\n",
        "\n",
        "ann.compile(optimizer='SGD',loss='sparse_categorical_crossentropy',metrics=['accuracy'])\n",
        "\n",
        "ann.fit(x_train,y_train,validation_split=0.2,epochs=10)"
      ],
      "metadata": {
        "id": "H_IdnGaDw8HW",
        "outputId": "fff9393e-9d95-4929-a018-fa4b4f597785",
        "colab": {
          "base_uri": "https://localhost:8080/"
        }
      },
      "execution_count": 42,
      "outputs": [
        {
          "output_type": "stream",
          "name": "stdout",
          "text": [
            "Epoch 1/10\n",
            "1250/1250 [==============================] - 9s 7ms/step - loss: 1.8230 - accuracy: 0.3456 - val_loss: 1.6771 - val_accuracy: 0.4062\n",
            "Epoch 2/10\n",
            "1250/1250 [==============================] - 9s 7ms/step - loss: 1.6264 - accuracy: 0.4229 - val_loss: 1.6268 - val_accuracy: 0.4187\n",
            "Epoch 3/10\n",
            "1250/1250 [==============================] - 12s 10ms/step - loss: 1.5429 - accuracy: 0.4534 - val_loss: 1.6221 - val_accuracy: 0.4230\n",
            "Epoch 4/10\n",
            "1250/1250 [==============================] - 10s 8ms/step - loss: 1.4793 - accuracy: 0.4784 - val_loss: 1.5331 - val_accuracy: 0.4586\n",
            "Epoch 5/10\n",
            "1250/1250 [==============================] - 8s 7ms/step - loss: 1.4236 - accuracy: 0.4960 - val_loss: 1.4784 - val_accuracy: 0.4724\n",
            "Epoch 6/10\n",
            "1250/1250 [==============================] - 8s 7ms/step - loss: 1.3782 - accuracy: 0.5142 - val_loss: 1.4928 - val_accuracy: 0.4673\n",
            "Epoch 7/10\n",
            "1250/1250 [==============================] - 8s 6ms/step - loss: 1.3340 - accuracy: 0.5276 - val_loss: 1.4740 - val_accuracy: 0.4846\n",
            "Epoch 8/10\n",
            "1250/1250 [==============================] - 8s 6ms/step - loss: 1.2897 - accuracy: 0.5447 - val_loss: 1.4331 - val_accuracy: 0.4943\n",
            "Epoch 9/10\n",
            "1250/1250 [==============================] - 8s 6ms/step - loss: 1.2547 - accuracy: 0.5573 - val_loss: 1.3671 - val_accuracy: 0.5189\n",
            "Epoch 10/10\n",
            "1250/1250 [==============================] - 8s 7ms/step - loss: 1.2157 - accuracy: 0.5719 - val_loss: 1.3583 - val_accuracy: 0.5259\n"
          ]
        },
        {
          "output_type": "execute_result",
          "data": {
            "text/plain": [
              "<keras.callbacks.History at 0x7f69261547d0>"
            ]
          },
          "metadata": {},
          "execution_count": 42
        }
      ]
    },
    {
      "cell_type": "code",
      "source": [
        "ann.evaluate(x_test,y_test)"
      ],
      "metadata": {
        "id": "R_l-PJFsBf7q",
        "outputId": "5a5e7962-f54f-4f49-93c3-9aca965c564e",
        "colab": {
          "base_uri": "https://localhost:8080/"
        }
      },
      "execution_count": 43,
      "outputs": [
        {
          "output_type": "stream",
          "name": "stdout",
          "text": [
            "313/313 [==============================] - 1s 4ms/step - loss: 1.3400 - accuracy: 0.5225\n"
          ]
        },
        {
          "output_type": "execute_result",
          "data": {
            "text/plain": [
              "[1.3399912118911743, 0.5224999785423279]"
            ]
          },
          "metadata": {},
          "execution_count": 43
        }
      ]
    },
    {
      "cell_type": "markdown",
      "source": [
        "After 10 epochs, ANN accuracy is 52% only. Not good result."
      ],
      "metadata": {
        "id": "X2lLgmMA9IXM"
      }
    },
    {
      "cell_type": "code",
      "source": [
        "from sklearn.metrics import confusion_matrix , classification_report\n",
        "y_pred = ann.predict(x_test)\n",
        "y_pred_classes = [np.argmax(element) for element in y_pred]\n",
        "\n",
        "print(\"Classification Report: \\n\", classification_report(y_test, y_pred_classes))\n"
      ],
      "metadata": {
        "id": "i0xIsW60BAKj",
        "outputId": "b73130a5-22a2-4a19-b5bd-adb07e23676a",
        "colab": {
          "base_uri": "https://localhost:8080/"
        }
      },
      "execution_count": 44,
      "outputs": [
        {
          "output_type": "stream",
          "name": "stdout",
          "text": [
            "Classification Report: \n",
            "               precision    recall  f1-score   support\n",
            "\n",
            "           0       0.49      0.70      0.57      1000\n",
            "           1       0.67      0.62      0.65      1000\n",
            "           2       0.38      0.44      0.41      1000\n",
            "           3       0.36      0.34      0.35      1000\n",
            "           4       0.53      0.34      0.42      1000\n",
            "           5       0.45      0.41      0.43      1000\n",
            "           6       0.50      0.65      0.57      1000\n",
            "           7       0.68      0.49      0.57      1000\n",
            "           8       0.65      0.66      0.65      1000\n",
            "           9       0.60      0.56      0.58      1000\n",
            "\n",
            "    accuracy                           0.52     10000\n",
            "   macro avg       0.53      0.52      0.52     10000\n",
            "weighted avg       0.53      0.52      0.52     10000\n",
            "\n"
          ]
        }
      ]
    },
    {
      "cell_type": "code",
      "source": [
        "#cnn model:\n",
        "cnn= models.Sequential([\n",
        "    layers.Conv2D(128,(3,3),activation='relu',input_shape=(32,32,3)),\n",
        "    layers.MaxPooling2D((2,2)),\n",
        "\n",
        "    layers.Conv2D(256,(3,3),activation='relu'),\n",
        "    layers.MaxPooling2D((2,2)),\n",
        "\n",
        "    layers.Flatten(),\n",
        "    layers.Dense(1000,activation='relu'),\n",
        "    layers.Dropout(0.2),\n",
        "    layers.Dense(10,activation='softmax')\n",
        "])\n",
        "\n",
        "cnn.compile(optimizer='adam',loss='sparse_categorical_crossentropy',metrics=['accuracy'])\n",
        "cnn.fit(x_train,y_train,validation_split=0.2,epochs=10)"
      ],
      "metadata": {
        "id": "_BOw6IeexI6_",
        "outputId": "466a47d7-6950-4089-8617-b3f69d03176a",
        "colab": {
          "base_uri": "https://localhost:8080/"
        }
      },
      "execution_count": 49,
      "outputs": [
        {
          "output_type": "stream",
          "name": "stdout",
          "text": [
            "Epoch 1/10\n",
            "1250/1250 [==============================] - 11s 9ms/step - loss: 1.4188 - accuracy: 0.4896 - val_loss: 1.1429 - val_accuracy: 0.6012\n",
            "Epoch 2/10\n",
            "1250/1250 [==============================] - 10s 8ms/step - loss: 1.0339 - accuracy: 0.6342 - val_loss: 1.0006 - val_accuracy: 0.6507\n",
            "Epoch 3/10\n",
            "1250/1250 [==============================] - 11s 8ms/step - loss: 0.8493 - accuracy: 0.7042 - val_loss: 0.9011 - val_accuracy: 0.6883\n",
            "Epoch 4/10\n",
            "1250/1250 [==============================] - 10s 8ms/step - loss: 0.6842 - accuracy: 0.7605 - val_loss: 0.8676 - val_accuracy: 0.7045\n",
            "Epoch 5/10\n",
            "1250/1250 [==============================] - 10s 8ms/step - loss: 0.5411 - accuracy: 0.8111 - val_loss: 0.8871 - val_accuracy: 0.7108\n",
            "Epoch 6/10\n",
            "1250/1250 [==============================] - 11s 8ms/step - loss: 0.4207 - accuracy: 0.8534 - val_loss: 0.9131 - val_accuracy: 0.7146\n",
            "Epoch 7/10\n",
            "1250/1250 [==============================] - 11s 9ms/step - loss: 0.3080 - accuracy: 0.8916 - val_loss: 1.0154 - val_accuracy: 0.7099\n",
            "Epoch 8/10\n",
            "1250/1250 [==============================] - 10s 8ms/step - loss: 0.2406 - accuracy: 0.9172 - val_loss: 1.1116 - val_accuracy: 0.7109\n",
            "Epoch 9/10\n",
            "1250/1250 [==============================] - 10s 8ms/step - loss: 0.1971 - accuracy: 0.9327 - val_loss: 1.2638 - val_accuracy: 0.7038\n",
            "Epoch 10/10\n",
            "1250/1250 [==============================] - 10s 8ms/step - loss: 0.1673 - accuracy: 0.9418 - val_loss: 1.3029 - val_accuracy: 0.7137\n"
          ]
        },
        {
          "output_type": "execute_result",
          "data": {
            "text/plain": [
              "<keras.callbacks.History at 0x7f686c54db10>"
            ]
          },
          "metadata": {},
          "execution_count": 49
        }
      ]
    },
    {
      "cell_type": "code",
      "source": [
        "cnn.evaluate(x_test,y_test)"
      ],
      "metadata": {
        "id": "EZqA9IDn-jUW",
        "outputId": "d37595d7-4b35-4dd6-fa14-d28ea86fa7bf",
        "colab": {
          "base_uri": "https://localhost:8080/"
        }
      },
      "execution_count": 50,
      "outputs": [
        {
          "output_type": "stream",
          "name": "stdout",
          "text": [
            "313/313 [==============================] - 3s 8ms/step - loss: 1.3156 - accuracy: 0.7072\n"
          ]
        },
        {
          "output_type": "execute_result",
          "data": {
            "text/plain": [
              "[1.3155995607376099, 0.7071999907493591]"
            ]
          },
          "metadata": {},
          "execution_count": 50
        }
      ]
    },
    {
      "cell_type": "markdown",
      "source": [
        "After 10 epochs, CNN accuracy is 71% only. Massive Improvement."
      ],
      "metadata": {
        "id": "rbVtKMoGDcAz"
      }
    },
    {
      "cell_type": "code",
      "source": [
        "from sklearn.metrics import confusion_matrix , classification_report\n",
        "y_pred = cnn.predict(x_test)\n",
        "y_pred_classes = [np.argmax(element) for element in y_pred]\n",
        "\n",
        "print(\"Classification Report: \\n\", classification_report(y_test, y_pred_classes))\n"
      ],
      "metadata": {
        "id": "Cz6GxS0yDZj5",
        "outputId": "e2118c48-4f68-4eea-f074-c8d616b9aab1",
        "colab": {
          "base_uri": "https://localhost:8080/"
        }
      },
      "execution_count": 52,
      "outputs": [
        {
          "output_type": "stream",
          "name": "stdout",
          "text": [
            "Classification Report: \n",
            "               precision    recall  f1-score   support\n",
            "\n",
            "           0       0.76      0.74      0.75      1000\n",
            "           1       0.87      0.80      0.83      1000\n",
            "           2       0.61      0.59      0.60      1000\n",
            "           3       0.54      0.47      0.50      1000\n",
            "           4       0.66      0.63      0.64      1000\n",
            "           5       0.58      0.61      0.59      1000\n",
            "           6       0.69      0.86      0.77      1000\n",
            "           7       0.80      0.73      0.76      1000\n",
            "           8       0.79      0.84      0.81      1000\n",
            "           9       0.77      0.80      0.79      1000\n",
            "\n",
            "    accuracy                           0.71     10000\n",
            "   macro avg       0.71      0.71      0.71     10000\n",
            "weighted avg       0.71      0.71      0.71     10000\n",
            "\n"
          ]
        }
      ]
    },
    {
      "cell_type": "code",
      "source": [
        "y_test = y_test.reshape(-1,)"
      ],
      "metadata": {
        "id": "veYwKbOcD7bl"
      },
      "execution_count": 54,
      "outputs": []
    },
    {
      "cell_type": "code",
      "source": [
        "plot_sample(x_test, y_test,7)"
      ],
      "metadata": {
        "id": "GIk42Rs_Dr9h",
        "outputId": "17002891-9f3f-4323-993b-fa3b7c0fba5b",
        "colab": {
          "base_uri": "https://localhost:8080/",
          "height": 173
        }
      },
      "execution_count": 55,
      "outputs": [
        {
          "output_type": "display_data",
          "data": {
            "text/plain": [
              "<Figure size 1008x144 with 1 Axes>"
            ],
            "image/png": "[encoded data removed]"
          },
          "metadata": {
            "needs_background": "light"
          }
        }
      ]
    },
    {
      "cell_type": "code",
      "source": [
        "classes[y_pred_classes[7]]"
      ],
      "metadata": {
        "id": "-fL2DkO0D3p_",
        "outputId": "d031e0d7-3e6d-4123-88b7-59047c934aa0",
        "colab": {
          "base_uri": "https://localhost:8080/",
          "height": 36
        }
      },
      "execution_count": 56,
      "outputs": [
        {
          "output_type": "execute_result",
          "data": {
            "text/plain": [
              "'frog'"
            ],
            "application/vnd.google.colaboratory.intrinsic+json": {
              "type": "string"
            }
          },
          "metadata": {},
          "execution_count": 56
        }
      ]
    },
    {
      "cell_type": "code",
      "source": [
        "plot_sample(x_test, y_test,77)"
      ],
      "metadata": {
        "id": "djcZREr5ELNn",
        "outputId": "f666aab1-022e-42e4-9b0a-42a1798d9a47",
        "colab": {
          "base_uri": "https://localhost:8080/",
          "height": 173
        }
      },
      "execution_count": 61,
      "outputs": [
        {
          "output_type": "display_data",
          "data": {
            "text/plain": [
              "<Figure size 1008x144 with 1 Axes>"
            ],
            "image/png": "[encoded data removed]"
          },
          "metadata": {
            "needs_background": "light"
          }
        }
      ]
    },
    {
      "cell_type": "code",
      "source": [
        "classes[y_pred_classes[77]]"
      ],
      "metadata": {
        "id": "6wmQ-ShOERCY",
        "outputId": "fe3341e3-74f8-4d80-c586-778d39b9469d",
        "colab": {
          "base_uri": "https://localhost:8080/",
          "height": 36
        }
      },
      "execution_count": 60,
      "outputs": [
        {
          "output_type": "execute_result",
          "data": {
            "text/plain": [
              "'cat'"
            ],
            "application/vnd.google.colaboratory.intrinsic+json": {
              "type": "string"
            }
          },
          "metadata": {},
          "execution_count": 60
        }
      ]
    }
  ]
}