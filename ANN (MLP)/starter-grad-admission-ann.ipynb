{
 "cells": [
  {
   "cell_type": "code",
   "execution_count": 1,
   "id": "f37809e4",
   "metadata": {
    "_cell_guid": "b1076dfc-b9ad-4769-8c92-a6c4dae69d19",
    "_uuid": "8f2839f25d086af736a60e9eeb907d3b93b6e0e5",
    "execution": {
     "iopub.execute_input": "2022-06-29T18:05:26.421629Z",
     "iopub.status.busy": "2022-06-29T18:05:26.420330Z",
     "iopub.status.idle": "2022-06-29T18:05:26.444813Z",
     "shell.execute_reply": "2022-06-29T18:05:26.443653Z"
    },
    "papermill": {
     "duration": 0.037098,
     "end_time": "2022-06-29T18:05:26.448014",
     "exception": false,
     "start_time": "2022-06-29T18:05:26.410916",
     "status": "completed"
    },
    "tags": []
   },
   "outputs": [
    {
     "name": "stdout",
     "output_type": "stream",
     "text": [
      "/kaggle/input/graduate-admissions/Admission_Predict.csv\n",
      "/kaggle/input/graduate-admissions/Admission_Predict_Ver1.1.csv\n"
     ]
    }
   ],
   "source": [
    "# This Python 3 environment comes with many helpful analytics libraries installed\n",
    "# It is defined by the kaggle/python Docker image: https://github.com/kaggle/docker-python\n",
    "# For example, here's several helpful packages to load\n",
    "\n",
    "import numpy as np # linear algebra\n",
    "import pandas as pd # data processing, CSV file I/O (e.g. pd.read_csv)\n",
    "\n",
    "# Input data files are available in the read-only \"../input/\" directory\n",
    "# For example, running this (by clicking run or pressing Shift+Enter) will list all files under the input directory\n",
    "\n",
    "import os\n",
    "for dirname, _, filenames in os.walk('/kaggle/input'):\n",
    "    for filename in filenames:\n",
    "        print(os.path.join(dirname, filename))\n",
    "\n",
    "# You can write up to 20GB to the current directory (/kaggle/working/) that gets preserved as output when you create a version using \"Save & Run All\" \n",
    "# You can also write temporary files to /kaggle/temp/, but they won't be saved outside of the current session"
   ]
  },
  {
   "cell_type": "code",
   "execution_count": 2,
   "id": "e3b9b196",
   "metadata": {
    "execution": {
     "iopub.execute_input": "2022-06-29T18:05:26.462865Z",
     "iopub.status.busy": "2022-06-29T18:05:26.462152Z",
     "iopub.status.idle": "2022-06-29T18:05:26.481924Z",
     "shell.execute_reply": "2022-06-29T18:05:26.480827Z"
    },
    "papermill": {
     "duration": 0.030548,
     "end_time": "2022-06-29T18:05:26.484955",
     "exception": false,
     "start_time": "2022-06-29T18:05:26.454407",
     "status": "completed"
    },
    "tags": []
   },
   "outputs": [],
   "source": [
    "df=pd.read_csv('/kaggle/input/graduate-admissions/Admission_Predict_Ver1.1.csv')"
   ]
  },
  {
   "cell_type": "code",
   "execution_count": 3,
   "id": "1d562122",
   "metadata": {
    "execution": {
     "iopub.execute_input": "2022-06-29T18:05:26.502739Z",
     "iopub.status.busy": "2022-06-29T18:05:26.502122Z",
     "iopub.status.idle": "2022-06-29T18:05:26.526642Z",
     "shell.execute_reply": "2022-06-29T18:05:26.525449Z"
    },
    "papermill": {
     "duration": 0.037079,
     "end_time": "2022-06-29T18:05:26.529413",
     "exception": false,
     "start_time": "2022-06-29T18:05:26.492334",
     "status": "completed"
    },
    "tags": []
   },
   "outputs": [
    {
     "data": {
      "text/html": [
       "<div>\n",
       "<style scoped>\n",
       "    .dataframe tbody tr th:only-of-type {\n",
       "        vertical-align: middle;\n",
       "    }\n",
       "\n",
       "    .dataframe tbody tr th {\n",
       "        vertical-align: top;\n",
       "    }\n",
       "\n",
       "    .dataframe thead th {\n",
       "        text-align: right;\n",
       "    }\n",
       "</style>\n",
       "<table border=\"1\" class=\"dataframe\">\n",
       "  <thead>\n",
       "    <tr style=\"text-align: right;\">\n",
       "      <th></th>\n",
       "      <th>Serial No.</th>\n",
       "      <th>GRE Score</th>\n",
       "      <th>TOEFL Score</th>\n",
       "      <th>University Rating</th>\n",
       "      <th>SOP</th>\n",
       "      <th>LOR</th>\n",
       "      <th>CGPA</th>\n",
       "      <th>Research</th>\n",
       "      <th>Chance of Admit</th>\n",
       "    </tr>\n",
       "  </thead>\n",
       "  <tbody>\n",
       "    <tr>\n",
       "      <th>0</th>\n",
       "      <td>1</td>\n",
       "      <td>337</td>\n",
       "      <td>118</td>\n",
       "      <td>4</td>\n",
       "      <td>4.5</td>\n",
       "      <td>4.5</td>\n",
       "      <td>9.65</td>\n",
       "      <td>1</td>\n",
       "      <td>0.92</td>\n",
       "    </tr>\n",
       "    <tr>\n",
       "      <th>1</th>\n",
       "      <td>2</td>\n",
       "      <td>324</td>\n",
       "      <td>107</td>\n",
       "      <td>4</td>\n",
       "      <td>4.0</td>\n",
       "      <td>4.5</td>\n",
       "      <td>8.87</td>\n",
       "      <td>1</td>\n",
       "      <td>0.76</td>\n",
       "    </tr>\n",
       "    <tr>\n",
       "      <th>2</th>\n",
       "      <td>3</td>\n",
       "      <td>316</td>\n",
       "      <td>104</td>\n",
       "      <td>3</td>\n",
       "      <td>3.0</td>\n",
       "      <td>3.5</td>\n",
       "      <td>8.00</td>\n",
       "      <td>1</td>\n",
       "      <td>0.72</td>\n",
       "    </tr>\n",
       "    <tr>\n",
       "      <th>3</th>\n",
       "      <td>4</td>\n",
       "      <td>322</td>\n",
       "      <td>110</td>\n",
       "      <td>3</td>\n",
       "      <td>3.5</td>\n",
       "      <td>2.5</td>\n",
       "      <td>8.67</td>\n",
       "      <td>1</td>\n",
       "      <td>0.80</td>\n",
       "    </tr>\n",
       "    <tr>\n",
       "      <th>4</th>\n",
       "      <td>5</td>\n",
       "      <td>314</td>\n",
       "      <td>103</td>\n",
       "      <td>2</td>\n",
       "      <td>2.0</td>\n",
       "      <td>3.0</td>\n",
       "      <td>8.21</td>\n",
       "      <td>0</td>\n",
       "      <td>0.65</td>\n",
       "    </tr>\n",
       "  </tbody>\n",
       "</table>\n",
       "</div>"
      ],
      "text/plain": [
       "   Serial No.  GRE Score  TOEFL Score  University Rating  SOP  LOR   CGPA  \\\n",
       "0           1        337          118                  4  4.5   4.5  9.65   \n",
       "1           2        324          107                  4  4.0   4.5  8.87   \n",
       "2           3        316          104                  3  3.0   3.5  8.00   \n",
       "3           4        322          110                  3  3.5   2.5  8.67   \n",
       "4           5        314          103                  2  2.0   3.0  8.21   \n",
       "\n",
       "   Research  Chance of Admit   \n",
       "0         1              0.92  \n",
       "1         1              0.76  \n",
       "2         1              0.72  \n",
       "3         1              0.80  \n",
       "4         0              0.65  "
      ]
     },
     "execution_count": 3,
     "metadata": {},
     "output_type": "execute_result"
    }
   ],
   "source": [
    "df.head()"
   ]
  },
  {
   "cell_type": "code",
   "execution_count": 4,
   "id": "92398b70",
   "metadata": {
    "execution": {
     "iopub.execute_input": "2022-06-29T18:05:26.543942Z",
     "iopub.status.busy": "2022-06-29T18:05:26.543528Z",
     "iopub.status.idle": "2022-06-29T18:05:26.571338Z",
     "shell.execute_reply": "2022-06-29T18:05:26.570096Z"
    },
    "papermill": {
     "duration": 0.038402,
     "end_time": "2022-06-29T18:05:26.574273",
     "exception": false,
     "start_time": "2022-06-29T18:05:26.535871",
     "status": "completed"
    },
    "tags": []
   },
   "outputs": [
    {
     "name": "stdout",
     "output_type": "stream",
     "text": [
      "<class 'pandas.core.frame.DataFrame'>\n",
      "RangeIndex: 500 entries, 0 to 499\n",
      "Data columns (total 9 columns):\n",
      " #   Column             Non-Null Count  Dtype  \n",
      "---  ------             --------------  -----  \n",
      " 0   Serial No.         500 non-null    int64  \n",
      " 1   GRE Score          500 non-null    int64  \n",
      " 2   TOEFL Score        500 non-null    int64  \n",
      " 3   University Rating  500 non-null    int64  \n",
      " 4   SOP                500 non-null    float64\n",
      " 5   LOR                500 non-null    float64\n",
      " 6   CGPA               500 non-null    float64\n",
      " 7   Research           500 non-null    int64  \n",
      " 8   Chance of Admit    500 non-null    float64\n",
      "dtypes: float64(4), int64(5)\n",
      "memory usage: 35.3 KB\n"
     ]
    }
   ],
   "source": [
    "df.info()"
   ]
  },
  {
   "cell_type": "code",
   "execution_count": 5,
   "id": "3288950a",
   "metadata": {
    "execution": {
     "iopub.execute_input": "2022-06-29T18:05:26.589242Z",
     "iopub.status.busy": "2022-06-29T18:05:26.588508Z",
     "iopub.status.idle": "2022-06-29T18:05:26.598171Z",
     "shell.execute_reply": "2022-06-29T18:05:26.597244Z"
    },
    "papermill": {
     "duration": 0.020008,
     "end_time": "2022-06-29T18:05:26.600770",
     "exception": false,
     "start_time": "2022-06-29T18:05:26.580762",
     "status": "completed"
    },
    "tags": []
   },
   "outputs": [
    {
     "data": {
      "text/plain": [
       "0"
      ]
     },
     "execution_count": 5,
     "metadata": {},
     "output_type": "execute_result"
    }
   ],
   "source": [
    "df.duplicated().sum()"
   ]
  },
  {
   "cell_type": "code",
   "execution_count": 6,
   "id": "3fdde708",
   "metadata": {
    "execution": {
     "iopub.execute_input": "2022-06-29T18:05:26.615905Z",
     "iopub.status.busy": "2022-06-29T18:05:26.615174Z",
     "iopub.status.idle": "2022-06-29T18:05:26.622628Z",
     "shell.execute_reply": "2022-06-29T18:05:26.621636Z"
    },
    "papermill": {
     "duration": 0.017787,
     "end_time": "2022-06-29T18:05:26.625109",
     "exception": false,
     "start_time": "2022-06-29T18:05:26.607322",
     "status": "completed"
    },
    "tags": []
   },
   "outputs": [],
   "source": [
    "df=df.drop('Serial No.',axis=1)"
   ]
  },
  {
   "cell_type": "code",
   "execution_count": 7,
   "id": "e9ae4d24",
   "metadata": {
    "execution": {
     "iopub.execute_input": "2022-06-29T18:05:26.640647Z",
     "iopub.status.busy": "2022-06-29T18:05:26.639915Z",
     "iopub.status.idle": "2022-06-29T18:05:26.645575Z",
     "shell.execute_reply": "2022-06-29T18:05:26.644506Z"
    },
    "papermill": {
     "duration": 0.016333,
     "end_time": "2022-06-29T18:05:26.647963",
     "exception": false,
     "start_time": "2022-06-29T18:05:26.631630",
     "status": "completed"
    },
    "tags": []
   },
   "outputs": [],
   "source": [
    "x=df.iloc[:,0:-1]\n",
    "y=df.iloc[:,-1]"
   ]
  },
  {
   "cell_type": "code",
   "execution_count": 8,
   "id": "b7d4d193",
   "metadata": {
    "execution": {
     "iopub.execute_input": "2022-06-29T18:05:26.663040Z",
     "iopub.status.busy": "2022-06-29T18:05:26.662290Z",
     "iopub.status.idle": "2022-06-29T18:05:27.884562Z",
     "shell.execute_reply": "2022-06-29T18:05:27.883257Z"
    },
    "papermill": {
     "duration": 1.232888,
     "end_time": "2022-06-29T18:05:27.887295",
     "exception": false,
     "start_time": "2022-06-29T18:05:26.654407",
     "status": "completed"
    },
    "tags": []
   },
   "outputs": [],
   "source": [
    "from sklearn.model_selection import train_test_split\n",
    "x_train,x_test,y_train,y_test = train_test_split(x,y,test_size=0.2,random_state=42)"
   ]
  },
  {
   "cell_type": "code",
   "execution_count": 9,
   "id": "93862b49",
   "metadata": {
    "execution": {
     "iopub.execute_input": "2022-06-29T18:05:27.903701Z",
     "iopub.status.busy": "2022-06-29T18:05:27.902865Z",
     "iopub.status.idle": "2022-06-29T18:05:27.914848Z",
     "shell.execute_reply": "2022-06-29T18:05:27.913554Z"
    },
    "papermill": {
     "duration": 0.02305,
     "end_time": "2022-06-29T18:05:27.917720",
     "exception": false,
     "start_time": "2022-06-29T18:05:27.894670",
     "status": "completed"
    },
    "tags": []
   },
   "outputs": [],
   "source": [
    "from sklearn.preprocessing import MinMaxScaler\n",
    "sc=MinMaxScaler()\n",
    "x_train = sc.fit_transform(x_train)\n",
    "x_test = sc.transform(x_test)"
   ]
  },
  {
   "cell_type": "code",
   "execution_count": 10,
   "id": "1d3522ae",
   "metadata": {
    "execution": {
     "iopub.execute_input": "2022-06-29T18:05:27.933529Z",
     "iopub.status.busy": "2022-06-29T18:05:27.933130Z",
     "iopub.status.idle": "2022-06-29T18:05:27.939597Z",
     "shell.execute_reply": "2022-06-29T18:05:27.938680Z"
    },
    "papermill": {
     "duration": 0.017356,
     "end_time": "2022-06-29T18:05:27.941605",
     "exception": false,
     "start_time": "2022-06-29T18:05:27.924249",
     "status": "completed"
    },
    "tags": []
   },
   "outputs": [
    {
     "data": {
      "text/plain": [
       "((400, 7), (400,))"
      ]
     },
     "execution_count": 10,
     "metadata": {},
     "output_type": "execute_result"
    }
   ],
   "source": [
    "x_train.shape , y_train.shape"
   ]
  },
  {
   "cell_type": "code",
   "execution_count": 11,
   "id": "5d8ac27e",
   "metadata": {
    "execution": {
     "iopub.execute_input": "2022-06-29T18:05:27.957266Z",
     "iopub.status.busy": "2022-06-29T18:05:27.956590Z",
     "iopub.status.idle": "2022-06-29T18:05:38.689022Z",
     "shell.execute_reply": "2022-06-29T18:05:38.687725Z"
    },
    "papermill": {
     "duration": 10.74313,
     "end_time": "2022-06-29T18:05:38.691671",
     "exception": false,
     "start_time": "2022-06-29T18:05:27.948541",
     "status": "completed"
    },
    "tags": []
   },
   "outputs": [],
   "source": [
    "import tensorflow \n",
    "from tensorflow import keras\n",
    "from tensorflow.keras import Sequential\n",
    "from tensorflow.keras.layers import Dense"
   ]
  },
  {
   "cell_type": "code",
   "execution_count": 12,
   "id": "9dda1064",
   "metadata": {
    "execution": {
     "iopub.execute_input": "2022-06-29T18:05:38.707454Z",
     "iopub.status.busy": "2022-06-29T18:05:38.706603Z",
     "iopub.status.idle": "2022-06-29T18:05:38.843208Z",
     "shell.execute_reply": "2022-06-29T18:05:38.842192Z"
    },
    "papermill": {
     "duration": 0.147416,
     "end_time": "2022-06-29T18:05:38.845751",
     "exception": false,
     "start_time": "2022-06-29T18:05:38.698335",
     "status": "completed"
    },
    "tags": []
   },
   "outputs": [
    {
     "name": "stderr",
     "output_type": "stream",
     "text": [
      "2022-06-29 18:05:38.753141: I tensorflow/core/common_runtime/process_util.cc:146] Creating new thread pool with default inter op setting: 2. Tune using inter_op_parallelism_threads for best performance.\n"
     ]
    }
   ],
   "source": [
    "model= Sequential()\n",
    "model.add(Dense(7,activation='relu',input_dim=7))\n",
    "model.add(Dense(7,activation='relu'))\n",
    "model.add(Dense(1,activation='linear'))"
   ]
  },
  {
   "cell_type": "code",
   "execution_count": 13,
   "id": "6d04861f",
   "metadata": {
    "execution": {
     "iopub.execute_input": "2022-06-29T18:05:38.861240Z",
     "iopub.status.busy": "2022-06-29T18:05:38.860836Z",
     "iopub.status.idle": "2022-06-29T18:05:38.868057Z",
     "shell.execute_reply": "2022-06-29T18:05:38.866279Z"
    },
    "papermill": {
     "duration": 0.018812,
     "end_time": "2022-06-29T18:05:38.871331",
     "exception": false,
     "start_time": "2022-06-29T18:05:38.852519",
     "status": "completed"
    },
    "tags": []
   },
   "outputs": [
    {
     "name": "stdout",
     "output_type": "stream",
     "text": [
      "Model: \"sequential\"\n",
      "_________________________________________________________________\n",
      "Layer (type)                 Output Shape              Param #   \n",
      "=================================================================\n",
      "dense (Dense)                (None, 7)                 56        \n",
      "_________________________________________________________________\n",
      "dense_1 (Dense)              (None, 7)                 56        \n",
      "_________________________________________________________________\n",
      "dense_2 (Dense)              (None, 1)                 8         \n",
      "=================================================================\n",
      "Total params: 120\n",
      "Trainable params: 120\n",
      "Non-trainable params: 0\n",
      "_________________________________________________________________\n"
     ]
    }
   ],
   "source": [
    "model.summary()"
   ]
  },
  {
   "cell_type": "code",
   "execution_count": 14,
   "id": "3e864712",
   "metadata": {
    "execution": {
     "iopub.execute_input": "2022-06-29T18:05:38.887062Z",
     "iopub.status.busy": "2022-06-29T18:05:38.886645Z",
     "iopub.status.idle": "2022-06-29T18:05:38.903432Z",
     "shell.execute_reply": "2022-06-29T18:05:38.901712Z"
    },
    "papermill": {
     "duration": 0.028912,
     "end_time": "2022-06-29T18:05:38.907072",
     "exception": false,
     "start_time": "2022-06-29T18:05:38.878160",
     "status": "completed"
    },
    "tags": []
   },
   "outputs": [],
   "source": [
    "model.compile(loss='mean_squared_error',optimizer='Adam')"
   ]
  },
  {
   "cell_type": "code",
   "execution_count": 15,
   "id": "628c4f83",
   "metadata": {
    "execution": {
     "iopub.execute_input": "2022-06-29T18:05:38.922965Z",
     "iopub.status.busy": "2022-06-29T18:05:38.922260Z",
     "iopub.status.idle": "2022-06-29T18:05:55.783186Z",
     "shell.execute_reply": "2022-06-29T18:05:55.781451Z"
    },
    "papermill": {
     "duration": 16.872373,
     "end_time": "2022-06-29T18:05:55.786347",
     "exception": false,
     "start_time": "2022-06-29T18:05:38.913974",
     "status": "completed"
    },
    "tags": []
   },
   "outputs": [
    {
     "name": "stderr",
     "output_type": "stream",
     "text": [
      "2022-06-29 18:05:39.014013: I tensorflow/compiler/mlir/mlir_graph_optimization_pass.cc:185] None of the MLIR Optimization Passes are enabled (registered 2)\n"
     ]
    },
    {
     "name": "stdout",
     "output_type": "stream",
     "text": [
      "Epoch 1/250\n",
      "10/10 [==============================] - 1s 23ms/step - loss: 0.9082 - val_loss: 0.7257\n",
      "Epoch 2/250\n",
      "10/10 [==============================] - 0s 5ms/step - loss: 0.5551 - val_loss: 0.3841\n",
      "Epoch 3/250\n",
      "10/10 [==============================] - 0s 6ms/step - loss: 0.2923 - val_loss: 0.1708\n",
      "Epoch 4/250\n",
      "10/10 [==============================] - 0s 6ms/step - loss: 0.1351 - val_loss: 0.0691\n",
      "Epoch 5/250\n",
      "10/10 [==============================] - 0s 6ms/step - loss: 0.0643 - val_loss: 0.0383\n",
      "Epoch 6/250\n",
      "10/10 [==============================] - 0s 6ms/step - loss: 0.0420 - val_loss: 0.0372\n",
      "Epoch 7/250\n",
      "10/10 [==============================] - 0s 6ms/step - loss: 0.0385 - val_loss: 0.0406\n",
      "Epoch 8/250\n",
      "10/10 [==============================] - 0s 6ms/step - loss: 0.0377 - val_loss: 0.0405\n",
      "Epoch 9/250\n",
      "10/10 [==============================] - 0s 9ms/step - loss: 0.0368 - val_loss: 0.0381\n",
      "Epoch 10/250\n",
      "10/10 [==============================] - 0s 12ms/step - loss: 0.0354 - val_loss: 0.0358\n",
      "Epoch 11/250\n",
      "10/10 [==============================] - 0s 8ms/step - loss: 0.0342 - val_loss: 0.0340\n",
      "Epoch 12/250\n",
      "10/10 [==============================] - 0s 8ms/step - loss: 0.0331 - val_loss: 0.0329\n",
      "Epoch 13/250\n",
      "10/10 [==============================] - 0s 10ms/step - loss: 0.0319 - val_loss: 0.0318\n",
      "Epoch 14/250\n",
      "10/10 [==============================] - 0s 10ms/step - loss: 0.0307 - val_loss: 0.0308\n",
      "Epoch 15/250\n",
      "10/10 [==============================] - 0s 13ms/step - loss: 0.0296 - val_loss: 0.0300\n",
      "Epoch 16/250\n",
      "10/10 [==============================] - 0s 12ms/step - loss: 0.0286 - val_loss: 0.0290\n",
      "Epoch 17/250\n",
      "10/10 [==============================] - 0s 12ms/step - loss: 0.0276 - val_loss: 0.0281\n",
      "Epoch 18/250\n",
      "10/10 [==============================] - 0s 13ms/step - loss: 0.0267 - val_loss: 0.0269\n",
      "Epoch 19/250\n",
      "10/10 [==============================] - 0s 6ms/step - loss: 0.0258 - val_loss: 0.0254\n",
      "Epoch 20/250\n",
      "10/10 [==============================] - 0s 6ms/step - loss: 0.0249 - val_loss: 0.0247\n",
      "Epoch 21/250\n",
      "10/10 [==============================] - 0s 6ms/step - loss: 0.0240 - val_loss: 0.0236\n",
      "Epoch 22/250\n",
      "10/10 [==============================] - 0s 6ms/step - loss: 0.0231 - val_loss: 0.0230\n",
      "Epoch 23/250\n",
      "10/10 [==============================] - 0s 6ms/step - loss: 0.0222 - val_loss: 0.0223\n",
      "Epoch 24/250\n",
      "10/10 [==============================] - 0s 8ms/step - loss: 0.0214 - val_loss: 0.0211\n",
      "Epoch 25/250\n",
      "10/10 [==============================] - 0s 6ms/step - loss: 0.0206 - val_loss: 0.0200\n",
      "Epoch 26/250\n",
      "10/10 [==============================] - 0s 7ms/step - loss: 0.0199 - val_loss: 0.0193\n",
      "Epoch 27/250\n",
      "10/10 [==============================] - 0s 6ms/step - loss: 0.0192 - val_loss: 0.0185\n",
      "Epoch 28/250\n",
      "10/10 [==============================] - 0s 6ms/step - loss: 0.0185 - val_loss: 0.0175\n",
      "Epoch 29/250\n",
      "10/10 [==============================] - 0s 6ms/step - loss: 0.0178 - val_loss: 0.0166\n",
      "Epoch 30/250\n",
      "10/10 [==============================] - 0s 6ms/step - loss: 0.0171 - val_loss: 0.0162\n",
      "Epoch 31/250\n",
      "10/10 [==============================] - 0s 6ms/step - loss: 0.0164 - val_loss: 0.0154\n",
      "Epoch 32/250\n",
      "10/10 [==============================] - 0s 6ms/step - loss: 0.0159 - val_loss: 0.0147\n",
      "Epoch 33/250\n",
      "10/10 [==============================] - 0s 6ms/step - loss: 0.0153 - val_loss: 0.0139\n",
      "Epoch 34/250\n",
      "10/10 [==============================] - 0s 6ms/step - loss: 0.0148 - val_loss: 0.0132\n",
      "Epoch 35/250\n",
      "10/10 [==============================] - 0s 6ms/step - loss: 0.0143 - val_loss: 0.0127\n",
      "Epoch 36/250\n",
      "10/10 [==============================] - 0s 6ms/step - loss: 0.0140 - val_loss: 0.0126\n",
      "Epoch 37/250\n",
      "10/10 [==============================] - 0s 6ms/step - loss: 0.0135 - val_loss: 0.0116\n",
      "Epoch 38/250\n",
      "10/10 [==============================] - 0s 6ms/step - loss: 0.0130 - val_loss: 0.0114\n",
      "Epoch 39/250\n",
      "10/10 [==============================] - 0s 7ms/step - loss: 0.0126 - val_loss: 0.0111\n",
      "Epoch 40/250\n",
      "10/10 [==============================] - 0s 6ms/step - loss: 0.0123 - val_loss: 0.0105\n",
      "Epoch 41/250\n",
      "10/10 [==============================] - 0s 6ms/step - loss: 0.0118 - val_loss: 0.0102\n",
      "Epoch 42/250\n",
      "10/10 [==============================] - 0s 6ms/step - loss: 0.0114 - val_loss: 0.0099\n",
      "Epoch 43/250\n",
      "10/10 [==============================] - 0s 7ms/step - loss: 0.0110 - val_loss: 0.0096\n",
      "Epoch 44/250\n",
      "10/10 [==============================] - 0s 6ms/step - loss: 0.0106 - val_loss: 0.0091\n",
      "Epoch 45/250\n",
      "10/10 [==============================] - 0s 6ms/step - loss: 0.0102 - val_loss: 0.0090\n",
      "Epoch 46/250\n",
      "10/10 [==============================] - 0s 7ms/step - loss: 0.0098 - val_loss: 0.0085\n",
      "Epoch 47/250\n",
      "10/10 [==============================] - 0s 6ms/step - loss: 0.0095 - val_loss: 0.0082\n",
      "Epoch 48/250\n",
      "10/10 [==============================] - 0s 6ms/step - loss: 0.0092 - val_loss: 0.0079\n",
      "Epoch 49/250\n",
      "10/10 [==============================] - 0s 6ms/step - loss: 0.0090 - val_loss: 0.0078\n",
      "Epoch 50/250\n",
      "10/10 [==============================] - 0s 6ms/step - loss: 0.0087 - val_loss: 0.0075\n",
      "Epoch 51/250\n",
      "10/10 [==============================] - 0s 6ms/step - loss: 0.0085 - val_loss: 0.0073\n",
      "Epoch 52/250\n",
      "10/10 [==============================] - 0s 7ms/step - loss: 0.0083 - val_loss: 0.0071\n",
      "Epoch 53/250\n",
      "10/10 [==============================] - 0s 6ms/step - loss: 0.0081 - val_loss: 0.0069\n",
      "Epoch 54/250\n",
      "10/10 [==============================] - 0s 6ms/step - loss: 0.0079 - val_loss: 0.0068\n",
      "Epoch 55/250\n",
      "10/10 [==============================] - 0s 6ms/step - loss: 0.0077 - val_loss: 0.0066\n",
      "Epoch 56/250\n",
      "10/10 [==============================] - 0s 6ms/step - loss: 0.0076 - val_loss: 0.0064\n",
      "Epoch 57/250\n",
      "10/10 [==============================] - 0s 6ms/step - loss: 0.0075 - val_loss: 0.0063\n",
      "Epoch 58/250\n",
      "10/10 [==============================] - 0s 6ms/step - loss: 0.0073 - val_loss: 0.0061\n",
      "Epoch 59/250\n",
      "10/10 [==============================] - 0s 6ms/step - loss: 0.0072 - val_loss: 0.0060\n",
      "Epoch 60/250\n",
      "10/10 [==============================] - 0s 6ms/step - loss: 0.0071 - val_loss: 0.0059\n",
      "Epoch 61/250\n",
      "10/10 [==============================] - 0s 6ms/step - loss: 0.0070 - val_loss: 0.0058\n",
      "Epoch 62/250\n",
      "10/10 [==============================] - 0s 6ms/step - loss: 0.0068 - val_loss: 0.0057\n",
      "Epoch 63/250\n",
      "10/10 [==============================] - 0s 6ms/step - loss: 0.0067 - val_loss: 0.0056\n",
      "Epoch 64/250\n",
      "10/10 [==============================] - 0s 7ms/step - loss: 0.0066 - val_loss: 0.0054\n",
      "Epoch 65/250\n",
      "10/10 [==============================] - 0s 7ms/step - loss: 0.0065 - val_loss: 0.0053\n",
      "Epoch 66/250\n",
      "10/10 [==============================] - 0s 6ms/step - loss: 0.0064 - val_loss: 0.0053\n",
      "Epoch 67/250\n",
      "10/10 [==============================] - 0s 6ms/step - loss: 0.0063 - val_loss: 0.0052\n",
      "Epoch 68/250\n",
      "10/10 [==============================] - 0s 7ms/step - loss: 0.0062 - val_loss: 0.0051\n",
      "Epoch 69/250\n",
      "10/10 [==============================] - 0s 6ms/step - loss: 0.0061 - val_loss: 0.0050\n",
      "Epoch 70/250\n",
      "10/10 [==============================] - 0s 6ms/step - loss: 0.0061 - val_loss: 0.0049\n",
      "Epoch 71/250\n",
      "10/10 [==============================] - 0s 6ms/step - loss: 0.0059 - val_loss: 0.0049\n",
      "Epoch 72/250\n",
      "10/10 [==============================] - 0s 7ms/step - loss: 0.0059 - val_loss: 0.0048\n",
      "Epoch 73/250\n",
      "10/10 [==============================] - 0s 7ms/step - loss: 0.0058 - val_loss: 0.0047\n",
      "Epoch 74/250\n",
      "10/10 [==============================] - 0s 6ms/step - loss: 0.0058 - val_loss: 0.0047\n",
      "Epoch 75/250\n",
      "10/10 [==============================] - 0s 7ms/step - loss: 0.0057 - val_loss: 0.0046\n",
      "Epoch 76/250\n",
      "10/10 [==============================] - 0s 6ms/step - loss: 0.0056 - val_loss: 0.0046\n",
      "Epoch 77/250\n",
      "10/10 [==============================] - 0s 7ms/step - loss: 0.0056 - val_loss: 0.0046\n",
      "Epoch 78/250\n",
      "10/10 [==============================] - 0s 7ms/step - loss: 0.0055 - val_loss: 0.0045\n",
      "Epoch 79/250\n",
      "10/10 [==============================] - 0s 7ms/step - loss: 0.0054 - val_loss: 0.0044\n",
      "Epoch 80/250\n",
      "10/10 [==============================] - 0s 6ms/step - loss: 0.0054 - val_loss: 0.0044\n",
      "Epoch 81/250\n",
      "10/10 [==============================] - 0s 6ms/step - loss: 0.0053 - val_loss: 0.0044\n",
      "Epoch 82/250\n",
      "10/10 [==============================] - 0s 7ms/step - loss: 0.0053 - val_loss: 0.0044\n",
      "Epoch 83/250\n",
      "10/10 [==============================] - 0s 6ms/step - loss: 0.0053 - val_loss: 0.0043\n",
      "Epoch 84/250\n",
      "10/10 [==============================] - 0s 6ms/step - loss: 0.0052 - val_loss: 0.0043\n",
      "Epoch 85/250\n",
      "10/10 [==============================] - 0s 7ms/step - loss: 0.0051 - val_loss: 0.0042\n",
      "Epoch 86/250\n",
      "10/10 [==============================] - 0s 6ms/step - loss: 0.0051 - val_loss: 0.0042\n",
      "Epoch 87/250\n",
      "10/10 [==============================] - 0s 7ms/step - loss: 0.0051 - val_loss: 0.0042\n",
      "Epoch 88/250\n",
      "10/10 [==============================] - 0s 7ms/step - loss: 0.0050 - val_loss: 0.0042\n",
      "Epoch 89/250\n",
      "10/10 [==============================] - 0s 6ms/step - loss: 0.0050 - val_loss: 0.0041\n",
      "Epoch 90/250\n",
      "10/10 [==============================] - 0s 6ms/step - loss: 0.0050 - val_loss: 0.0041\n",
      "Epoch 91/250\n",
      "10/10 [==============================] - 0s 8ms/step - loss: 0.0049 - val_loss: 0.0041\n",
      "Epoch 92/250\n",
      "10/10 [==============================] - 0s 9ms/step - loss: 0.0049 - val_loss: 0.0041\n",
      "Epoch 93/250\n",
      "10/10 [==============================] - 0s 8ms/step - loss: 0.0049 - val_loss: 0.0040\n",
      "Epoch 94/250\n",
      "10/10 [==============================] - 0s 9ms/step - loss: 0.0048 - val_loss: 0.0040\n",
      "Epoch 95/250\n",
      "10/10 [==============================] - 0s 10ms/step - loss: 0.0048 - val_loss: 0.0040\n",
      "Epoch 96/250\n",
      "10/10 [==============================] - 0s 10ms/step - loss: 0.0048 - val_loss: 0.0040\n",
      "Epoch 97/250\n",
      "10/10 [==============================] - 0s 9ms/step - loss: 0.0048 - val_loss: 0.0040\n",
      "Epoch 98/250\n",
      "10/10 [==============================] - 0s 8ms/step - loss: 0.0047 - val_loss: 0.0039\n",
      "Epoch 99/250\n",
      "10/10 [==============================] - 0s 7ms/step - loss: 0.0047 - val_loss: 0.0039\n",
      "Epoch 100/250\n",
      "10/10 [==============================] - 0s 8ms/step - loss: 0.0047 - val_loss: 0.0039\n",
      "Epoch 101/250\n",
      "10/10 [==============================] - 0s 8ms/step - loss: 0.0047 - val_loss: 0.0039\n",
      "Epoch 102/250\n",
      "10/10 [==============================] - 0s 6ms/step - loss: 0.0046 - val_loss: 0.0038\n",
      "Epoch 103/250\n",
      "10/10 [==============================] - 0s 6ms/step - loss: 0.0046 - val_loss: 0.0039\n",
      "Epoch 104/250\n",
      "10/10 [==============================] - 0s 6ms/step - loss: 0.0046 - val_loss: 0.0038\n",
      "Epoch 105/250\n",
      "10/10 [==============================] - 0s 6ms/step - loss: 0.0046 - val_loss: 0.0038\n",
      "Epoch 106/250\n",
      "10/10 [==============================] - 0s 6ms/step - loss: 0.0045 - val_loss: 0.0038\n",
      "Epoch 107/250\n",
      "10/10 [==============================] - 0s 6ms/step - loss: 0.0045 - val_loss: 0.0038\n",
      "Epoch 108/250\n",
      "10/10 [==============================] - 0s 6ms/step - loss: 0.0045 - val_loss: 0.0038\n",
      "Epoch 109/250\n",
      "10/10 [==============================] - 0s 6ms/step - loss: 0.0045 - val_loss: 0.0038\n",
      "Epoch 110/250\n",
      "10/10 [==============================] - 0s 6ms/step - loss: 0.0045 - val_loss: 0.0037\n",
      "Epoch 111/250\n",
      "10/10 [==============================] - 0s 6ms/step - loss: 0.0045 - val_loss: 0.0038\n",
      "Epoch 112/250\n",
      "10/10 [==============================] - 0s 6ms/step - loss: 0.0045 - val_loss: 0.0037\n",
      "Epoch 113/250\n",
      "10/10 [==============================] - 0s 6ms/step - loss: 0.0044 - val_loss: 0.0038\n",
      "Epoch 114/250\n",
      "10/10 [==============================] - 0s 5ms/step - loss: 0.0044 - val_loss: 0.0037\n",
      "Epoch 115/250\n",
      "10/10 [==============================] - 0s 6ms/step - loss: 0.0045 - val_loss: 0.0037\n",
      "Epoch 116/250\n",
      "10/10 [==============================] - 0s 6ms/step - loss: 0.0045 - val_loss: 0.0037\n",
      "Epoch 117/250\n",
      "10/10 [==============================] - 0s 6ms/step - loss: 0.0044 - val_loss: 0.0037\n",
      "Epoch 118/250\n",
      "10/10 [==============================] - 0s 6ms/step - loss: 0.0044 - val_loss: 0.0037\n",
      "Epoch 119/250\n",
      "10/10 [==============================] - 0s 6ms/step - loss: 0.0043 - val_loss: 0.0036\n",
      "Epoch 120/250\n",
      "10/10 [==============================] - 0s 5ms/step - loss: 0.0043 - val_loss: 0.0037\n",
      "Epoch 121/250\n",
      "10/10 [==============================] - 0s 6ms/step - loss: 0.0043 - val_loss: 0.0037\n",
      "Epoch 122/250\n",
      "10/10 [==============================] - 0s 6ms/step - loss: 0.0043 - val_loss: 0.0036\n",
      "Epoch 123/250\n",
      "10/10 [==============================] - 0s 7ms/step - loss: 0.0043 - val_loss: 0.0036\n",
      "Epoch 124/250\n",
      "10/10 [==============================] - 0s 6ms/step - loss: 0.0043 - val_loss: 0.0036\n",
      "Epoch 125/250\n",
      "10/10 [==============================] - 0s 6ms/step - loss: 0.0043 - val_loss: 0.0036\n",
      "Epoch 126/250\n",
      "10/10 [==============================] - 0s 6ms/step - loss: 0.0043 - val_loss: 0.0036\n",
      "Epoch 127/250\n",
      "10/10 [==============================] - 0s 6ms/step - loss: 0.0043 - val_loss: 0.0036\n",
      "Epoch 128/250\n",
      "10/10 [==============================] - 0s 6ms/step - loss: 0.0043 - val_loss: 0.0036\n",
      "Epoch 129/250\n",
      "10/10 [==============================] - 0s 6ms/step - loss: 0.0043 - val_loss: 0.0036\n",
      "Epoch 130/250\n",
      "10/10 [==============================] - 0s 6ms/step - loss: 0.0042 - val_loss: 0.0035\n",
      "Epoch 131/250\n",
      "10/10 [==============================] - 0s 6ms/step - loss: 0.0042 - val_loss: 0.0035\n",
      "Epoch 132/250\n",
      "10/10 [==============================] - 0s 6ms/step - loss: 0.0042 - val_loss: 0.0035\n",
      "Epoch 133/250\n",
      "10/10 [==============================] - 0s 7ms/step - loss: 0.0042 - val_loss: 0.0035\n",
      "Epoch 134/250\n",
      "10/10 [==============================] - 0s 6ms/step - loss: 0.0042 - val_loss: 0.0035\n",
      "Epoch 135/250\n",
      "10/10 [==============================] - 0s 6ms/step - loss: 0.0042 - val_loss: 0.0035\n",
      "Epoch 136/250\n",
      "10/10 [==============================] - 0s 6ms/step - loss: 0.0042 - val_loss: 0.0035\n",
      "Epoch 137/250\n",
      "10/10 [==============================] - 0s 5ms/step - loss: 0.0042 - val_loss: 0.0035\n",
      "Epoch 138/250\n",
      "10/10 [==============================] - 0s 5ms/step - loss: 0.0042 - val_loss: 0.0035\n",
      "Epoch 139/250\n",
      "10/10 [==============================] - 0s 6ms/step - loss: 0.0042 - val_loss: 0.0035\n",
      "Epoch 140/250\n",
      "10/10 [==============================] - 0s 6ms/step - loss: 0.0042 - val_loss: 0.0034\n",
      "Epoch 141/250\n",
      "10/10 [==============================] - 0s 7ms/step - loss: 0.0041 - val_loss: 0.0035\n",
      "Epoch 142/250\n",
      "10/10 [==============================] - 0s 7ms/step - loss: 0.0041 - val_loss: 0.0035\n",
      "Epoch 143/250\n",
      "10/10 [==============================] - 0s 6ms/step - loss: 0.0042 - val_loss: 0.0034\n",
      "Epoch 144/250\n",
      "10/10 [==============================] - 0s 6ms/step - loss: 0.0041 - val_loss: 0.0035\n",
      "Epoch 145/250\n",
      "10/10 [==============================] - 0s 6ms/step - loss: 0.0042 - val_loss: 0.0034\n",
      "Epoch 146/250\n",
      "10/10 [==============================] - 0s 6ms/step - loss: 0.0041 - val_loss: 0.0035\n",
      "Epoch 147/250\n",
      "10/10 [==============================] - 0s 6ms/step - loss: 0.0041 - val_loss: 0.0034\n",
      "Epoch 148/250\n",
      "10/10 [==============================] - 0s 6ms/step - loss: 0.0041 - val_loss: 0.0034\n",
      "Epoch 149/250\n",
      "10/10 [==============================] - 0s 6ms/step - loss: 0.0041 - val_loss: 0.0034\n",
      "Epoch 150/250\n",
      "10/10 [==============================] - 0s 6ms/step - loss: 0.0040 - val_loss: 0.0034\n",
      "Epoch 151/250\n",
      "10/10 [==============================] - 0s 6ms/step - loss: 0.0040 - val_loss: 0.0034\n",
      "Epoch 152/250\n",
      "10/10 [==============================] - 0s 6ms/step - loss: 0.0041 - val_loss: 0.0035\n",
      "Epoch 153/250\n",
      "10/10 [==============================] - 0s 6ms/step - loss: 0.0040 - val_loss: 0.0034\n",
      "Epoch 154/250\n",
      "10/10 [==============================] - 0s 6ms/step - loss: 0.0040 - val_loss: 0.0034\n",
      "Epoch 155/250\n",
      "10/10 [==============================] - 0s 6ms/step - loss: 0.0040 - val_loss: 0.0033\n",
      "Epoch 156/250\n",
      "10/10 [==============================] - 0s 6ms/step - loss: 0.0040 - val_loss: 0.0034\n",
      "Epoch 157/250\n",
      "10/10 [==============================] - 0s 6ms/step - loss: 0.0040 - val_loss: 0.0033\n",
      "Epoch 158/250\n",
      "10/10 [==============================] - 0s 6ms/step - loss: 0.0040 - val_loss: 0.0034\n",
      "Epoch 159/250\n",
      "10/10 [==============================] - 0s 6ms/step - loss: 0.0040 - val_loss: 0.0033\n",
      "Epoch 160/250\n",
      "10/10 [==============================] - 0s 6ms/step - loss: 0.0040 - val_loss: 0.0034\n",
      "Epoch 161/250\n",
      "10/10 [==============================] - 0s 5ms/step - loss: 0.0040 - val_loss: 0.0033\n",
      "Epoch 162/250\n",
      "10/10 [==============================] - 0s 6ms/step - loss: 0.0040 - val_loss: 0.0034\n",
      "Epoch 163/250\n",
      "10/10 [==============================] - 0s 7ms/step - loss: 0.0040 - val_loss: 0.0034\n",
      "Epoch 164/250\n",
      "10/10 [==============================] - 0s 6ms/step - loss: 0.0039 - val_loss: 0.0033\n",
      "Epoch 165/250\n",
      "10/10 [==============================] - 0s 7ms/step - loss: 0.0040 - val_loss: 0.0033\n",
      "Epoch 166/250\n",
      "10/10 [==============================] - 0s 6ms/step - loss: 0.0039 - val_loss: 0.0034\n",
      "Epoch 167/250\n",
      "10/10 [==============================] - 0s 7ms/step - loss: 0.0040 - val_loss: 0.0033\n",
      "Epoch 168/250\n",
      "10/10 [==============================] - 0s 6ms/step - loss: 0.0039 - val_loss: 0.0033\n",
      "Epoch 169/250\n",
      "10/10 [==============================] - 0s 6ms/step - loss: 0.0040 - val_loss: 0.0033\n",
      "Epoch 170/250\n",
      "10/10 [==============================] - 0s 6ms/step - loss: 0.0039 - val_loss: 0.0033\n",
      "Epoch 171/250\n",
      "10/10 [==============================] - 0s 6ms/step - loss: 0.0039 - val_loss: 0.0033\n",
      "Epoch 172/250\n",
      "10/10 [==============================] - 0s 6ms/step - loss: 0.0040 - val_loss: 0.0033\n",
      "Epoch 173/250\n",
      "10/10 [==============================] - 0s 6ms/step - loss: 0.0039 - val_loss: 0.0033\n",
      "Epoch 174/250\n",
      "10/10 [==============================] - 0s 6ms/step - loss: 0.0039 - val_loss: 0.0033\n",
      "Epoch 175/250\n",
      "10/10 [==============================] - 0s 7ms/step - loss: 0.0039 - val_loss: 0.0032\n",
      "Epoch 176/250\n",
      "10/10 [==============================] - 0s 6ms/step - loss: 0.0039 - val_loss: 0.0033\n",
      "Epoch 177/250\n",
      "10/10 [==============================] - 0s 6ms/step - loss: 0.0039 - val_loss: 0.0032\n",
      "Epoch 178/250\n",
      "10/10 [==============================] - 0s 6ms/step - loss: 0.0039 - val_loss: 0.0032\n",
      "Epoch 179/250\n",
      "10/10 [==============================] - 0s 6ms/step - loss: 0.0039 - val_loss: 0.0032\n",
      "Epoch 180/250\n",
      "10/10 [==============================] - 0s 6ms/step - loss: 0.0039 - val_loss: 0.0032\n",
      "Epoch 181/250\n",
      "10/10 [==============================] - 0s 7ms/step - loss: 0.0039 - val_loss: 0.0033\n",
      "Epoch 182/250\n",
      "10/10 [==============================] - 0s 6ms/step - loss: 0.0039 - val_loss: 0.0032\n",
      "Epoch 183/250\n",
      "10/10 [==============================] - 0s 6ms/step - loss: 0.0039 - val_loss: 0.0033\n",
      "Epoch 184/250\n",
      "10/10 [==============================] - 0s 7ms/step - loss: 0.0039 - val_loss: 0.0032\n",
      "Epoch 185/250\n",
      "10/10 [==============================] - 0s 6ms/step - loss: 0.0039 - val_loss: 0.0032\n",
      "Epoch 186/250\n",
      "10/10 [==============================] - 0s 6ms/step - loss: 0.0039 - val_loss: 0.0032\n",
      "Epoch 187/250\n",
      "10/10 [==============================] - 0s 8ms/step - loss: 0.0039 - val_loss: 0.0032\n",
      "Epoch 188/250\n",
      "10/10 [==============================] - 0s 6ms/step - loss: 0.0039 - val_loss: 0.0033\n",
      "Epoch 189/250\n",
      "10/10 [==============================] - 0s 6ms/step - loss: 0.0039 - val_loss: 0.0032\n",
      "Epoch 190/250\n",
      "10/10 [==============================] - 0s 6ms/step - loss: 0.0039 - val_loss: 0.0032\n",
      "Epoch 191/250\n",
      "10/10 [==============================] - 0s 6ms/step - loss: 0.0039 - val_loss: 0.0032\n",
      "Epoch 192/250\n",
      "10/10 [==============================] - 0s 6ms/step - loss: 0.0039 - val_loss: 0.0032\n",
      "Epoch 193/250\n",
      "10/10 [==============================] - 0s 6ms/step - loss: 0.0039 - val_loss: 0.0032\n",
      "Epoch 194/250\n",
      "10/10 [==============================] - 0s 6ms/step - loss: 0.0039 - val_loss: 0.0032\n",
      "Epoch 195/250\n",
      "10/10 [==============================] - 0s 6ms/step - loss: 0.0039 - val_loss: 0.0032\n",
      "Epoch 196/250\n",
      "10/10 [==============================] - 0s 6ms/step - loss: 0.0039 - val_loss: 0.0032\n",
      "Epoch 197/250\n",
      "10/10 [==============================] - 0s 6ms/step - loss: 0.0039 - val_loss: 0.0032\n",
      "Epoch 198/250\n",
      "10/10 [==============================] - 0s 6ms/step - loss: 0.0039 - val_loss: 0.0032\n",
      "Epoch 199/250\n",
      "10/10 [==============================] - 0s 6ms/step - loss: 0.0039 - val_loss: 0.0032\n",
      "Epoch 200/250\n",
      "10/10 [==============================] - 0s 6ms/step - loss: 0.0039 - val_loss: 0.0032\n",
      "Epoch 201/250\n",
      "10/10 [==============================] - 0s 6ms/step - loss: 0.0038 - val_loss: 0.0031\n",
      "Epoch 202/250\n",
      "10/10 [==============================] - 0s 6ms/step - loss: 0.0038 - val_loss: 0.0032\n",
      "Epoch 203/250\n",
      "10/10 [==============================] - 0s 7ms/step - loss: 0.0039 - val_loss: 0.0032\n",
      "Epoch 204/250\n",
      "10/10 [==============================] - 0s 7ms/step - loss: 0.0039 - val_loss: 0.0031\n",
      "Epoch 205/250\n",
      "10/10 [==============================] - 0s 6ms/step - loss: 0.0039 - val_loss: 0.0032\n",
      "Epoch 206/250\n",
      "10/10 [==============================] - 0s 6ms/step - loss: 0.0038 - val_loss: 0.0031\n",
      "Epoch 207/250\n",
      "10/10 [==============================] - 0s 7ms/step - loss: 0.0038 - val_loss: 0.0032\n",
      "Epoch 208/250\n",
      "10/10 [==============================] - 0s 6ms/step - loss: 0.0039 - val_loss: 0.0031\n",
      "Epoch 209/250\n",
      "10/10 [==============================] - 0s 7ms/step - loss: 0.0039 - val_loss: 0.0032\n",
      "Epoch 210/250\n",
      "10/10 [==============================] - 0s 7ms/step - loss: 0.0039 - val_loss: 0.0031\n",
      "Epoch 211/250\n",
      "10/10 [==============================] - 0s 7ms/step - loss: 0.0038 - val_loss: 0.0032\n",
      "Epoch 212/250\n",
      "10/10 [==============================] - 0s 7ms/step - loss: 0.0039 - val_loss: 0.0031\n",
      "Epoch 213/250\n",
      "10/10 [==============================] - 0s 6ms/step - loss: 0.0039 - val_loss: 0.0032\n",
      "Epoch 214/250\n",
      "10/10 [==============================] - 0s 7ms/step - loss: 0.0039 - val_loss: 0.0031\n",
      "Epoch 215/250\n",
      "10/10 [==============================] - 0s 7ms/step - loss: 0.0040 - val_loss: 0.0032\n",
      "Epoch 216/250\n",
      "10/10 [==============================] - 0s 6ms/step - loss: 0.0039 - val_loss: 0.0032\n",
      "Epoch 217/250\n",
      "10/10 [==============================] - 0s 6ms/step - loss: 0.0039 - val_loss: 0.0031\n",
      "Epoch 218/250\n",
      "10/10 [==============================] - 0s 5ms/step - loss: 0.0038 - val_loss: 0.0032\n",
      "Epoch 219/250\n",
      "10/10 [==============================] - 0s 6ms/step - loss: 0.0038 - val_loss: 0.0031\n",
      "Epoch 220/250\n",
      "10/10 [==============================] - 0s 6ms/step - loss: 0.0038 - val_loss: 0.0032\n",
      "Epoch 221/250\n",
      "10/10 [==============================] - 0s 6ms/step - loss: 0.0038 - val_loss: 0.0031\n",
      "Epoch 222/250\n",
      "10/10 [==============================] - 0s 6ms/step - loss: 0.0039 - val_loss: 0.0031\n",
      "Epoch 223/250\n",
      "10/10 [==============================] - 0s 6ms/step - loss: 0.0038 - val_loss: 0.0031\n",
      "Epoch 224/250\n",
      "10/10 [==============================] - 0s 6ms/step - loss: 0.0039 - val_loss: 0.0031\n",
      "Epoch 225/250\n",
      "10/10 [==============================] - 0s 6ms/step - loss: 0.0039 - val_loss: 0.0031\n",
      "Epoch 226/250\n",
      "10/10 [==============================] - 0s 6ms/step - loss: 0.0039 - val_loss: 0.0032\n",
      "Epoch 227/250\n",
      "10/10 [==============================] - 0s 6ms/step - loss: 0.0040 - val_loss: 0.0031\n",
      "Epoch 228/250\n",
      "10/10 [==============================] - 0s 7ms/step - loss: 0.0039 - val_loss: 0.0032\n",
      "Epoch 229/250\n",
      "10/10 [==============================] - 0s 7ms/step - loss: 0.0039 - val_loss: 0.0031\n",
      "Epoch 230/250\n",
      "10/10 [==============================] - 0s 6ms/step - loss: 0.0038 - val_loss: 0.0032\n",
      "Epoch 231/250\n",
      "10/10 [==============================] - 0s 7ms/step - loss: 0.0038 - val_loss: 0.0031\n",
      "Epoch 232/250\n",
      "10/10 [==============================] - 0s 6ms/step - loss: 0.0038 - val_loss: 0.0032\n",
      "Epoch 233/250\n",
      "10/10 [==============================] - 0s 8ms/step - loss: 0.0039 - val_loss: 0.0031\n",
      "Epoch 234/250\n",
      "10/10 [==============================] - 0s 7ms/step - loss: 0.0038 - val_loss: 0.0031\n",
      "Epoch 235/250\n",
      "10/10 [==============================] - 0s 7ms/step - loss: 0.0038 - val_loss: 0.0031\n",
      "Epoch 236/250\n",
      "10/10 [==============================] - 0s 6ms/step - loss: 0.0038 - val_loss: 0.0032\n",
      "Epoch 237/250\n",
      "10/10 [==============================] - 0s 6ms/step - loss: 0.0038 - val_loss: 0.0031\n",
      "Epoch 238/250\n",
      "10/10 [==============================] - 0s 7ms/step - loss: 0.0038 - val_loss: 0.0031\n",
      "Epoch 239/250\n",
      "10/10 [==============================] - 0s 7ms/step - loss: 0.0038 - val_loss: 0.0031\n",
      "Epoch 240/250\n",
      "10/10 [==============================] - 0s 6ms/step - loss: 0.0038 - val_loss: 0.0031\n",
      "Epoch 241/250\n",
      "10/10 [==============================] - 0s 7ms/step - loss: 0.0038 - val_loss: 0.0031\n",
      "Epoch 242/250\n",
      "10/10 [==============================] - 0s 6ms/step - loss: 0.0038 - val_loss: 0.0033\n",
      "Epoch 243/250\n",
      "10/10 [==============================] - 0s 6ms/step - loss: 0.0038 - val_loss: 0.0031\n",
      "Epoch 244/250\n",
      "10/10 [==============================] - 0s 6ms/step - loss: 0.0039 - val_loss: 0.0032\n",
      "Epoch 245/250\n",
      "10/10 [==============================] - 0s 7ms/step - loss: 0.0038 - val_loss: 0.0031\n",
      "Epoch 246/250\n",
      "10/10 [==============================] - 0s 7ms/step - loss: 0.0038 - val_loss: 0.0031\n",
      "Epoch 247/250\n",
      "10/10 [==============================] - 0s 6ms/step - loss: 0.0038 - val_loss: 0.0031\n",
      "Epoch 248/250\n",
      "10/10 [==============================] - 0s 6ms/step - loss: 0.0038 - val_loss: 0.0031\n",
      "Epoch 249/250\n",
      "10/10 [==============================] - 0s 6ms/step - loss: 0.0038 - val_loss: 0.0031\n",
      "Epoch 250/250\n",
      "10/10 [==============================] - 0s 7ms/step - loss: 0.0038 - val_loss: 0.0031\n"
     ]
    }
   ],
   "source": [
    "history = model.fit(x_train,y_train,epochs=250,validation_split=0.2)"
   ]
  },
  {
   "cell_type": "code",
   "execution_count": 16,
   "id": "2b60b34b",
   "metadata": {
    "execution": {
     "iopub.execute_input": "2022-06-29T18:05:55.879595Z",
     "iopub.status.busy": "2022-06-29T18:05:55.878407Z",
     "iopub.status.idle": "2022-06-29T18:05:56.035144Z",
     "shell.execute_reply": "2022-06-29T18:05:56.033862Z"
    },
    "papermill": {
     "duration": 0.205038,
     "end_time": "2022-06-29T18:05:56.037993",
     "exception": false,
     "start_time": "2022-06-29T18:05:55.832955",
     "status": "completed"
    },
    "tags": []
   },
   "outputs": [],
   "source": [
    "y_pred = model.predict(x_test)"
   ]
  },
  {
   "cell_type": "code",
   "execution_count": 17,
   "id": "8512305a",
   "metadata": {
    "execution": {
     "iopub.execute_input": "2022-06-29T18:05:56.128327Z",
     "iopub.status.busy": "2022-06-29T18:05:56.127263Z",
     "iopub.status.idle": "2022-06-29T18:05:56.136631Z",
     "shell.execute_reply": "2022-06-29T18:05:56.135212Z"
    },
    "papermill": {
     "duration": 0.057314,
     "end_time": "2022-06-29T18:05:56.139299",
     "exception": false,
     "start_time": "2022-06-29T18:05:56.081985",
     "status": "completed"
    },
    "tags": []
   },
   "outputs": [
    {
     "data": {
      "text/plain": [
       "0.8272789966471111"
      ]
     },
     "execution_count": 17,
     "metadata": {},
     "output_type": "execute_result"
    }
   ],
   "source": [
    "from sklearn.metrics import r2_score\n",
    "r2_score(y_test,y_pred)"
   ]
  },
  {
   "cell_type": "code",
   "execution_count": 18,
   "id": "6d31882f",
   "metadata": {
    "execution": {
     "iopub.execute_input": "2022-06-29T18:05:56.233362Z",
     "iopub.status.busy": "2022-06-29T18:05:56.232124Z",
     "iopub.status.idle": "2022-06-29T18:05:56.473195Z",
     "shell.execute_reply": "2022-06-29T18:05:56.471208Z"
    },
    "papermill": {
     "duration": 0.290255,
     "end_time": "2022-06-29T18:05:56.475887",
     "exception": false,
     "start_time": "2022-06-29T18:05:56.185632",
     "status": "completed"
    },
    "tags": []
   },
   "outputs": [
    {
     "data": {
      "text/plain": [
       "[<matplotlib.lines.Line2D at 0x7faf55c78d10>]"
      ]
     },
     "execution_count": 18,
     "metadata": {},
     "output_type": "execute_result"
    },
    {
     "data": {
      "image/png": "[encoded data removed]",
      "text/plain": [
       "<Figure size 432x288 with 1 Axes>"
      ]
     },
     "metadata": {
      "needs_background": "light"
     },
     "output_type": "display_data"
    }
   ],
   "source": [
    "import matplotlib.pyplot as plt\n",
    "plt.plot(history.history['loss'],color='lime')\n",
    "plt.plot(history.history['val_loss'],color='black')"
   ]
  },
  {
   "cell_type": "code",
   "execution_count": null,
   "id": "3f357775",
   "metadata": {
    "papermill": {
     "duration": 0.045794,
     "end_time": "2022-06-29T18:05:56.567604",
     "exception": false,
     "start_time": "2022-06-29T18:05:56.521810",
     "status": "completed"
    },
    "tags": []
   },
   "outputs": [],
   "source": []
  }
 ],
 "metadata": {
  "kernelspec": {
   "display_name": "Python 3",
   "language": "python",
   "name": "python3"
  },
  "language_info": {
   "codemirror_mode": {
    "name": "ipython",
    "version": 3
   },
   "file_extension": ".py",
   "mimetype": "text/x-python",
   "name": "python",
   "nbconvert_exporter": "python",
   "pygments_lexer": "ipython3",
   "version": "3.7.12"
  },
  "papermill": {
   "default_parameters": {},
   "duration": 44.779121,
   "end_time": "2022-06-29T18:06:00.167972",
   "environment_variables": {},
   "exception": null,
   "input_path": "__notebook__.ipynb",
   "output_path": "__notebook__.ipynb",
   "parameters": {},
   "start_time": "2022-06-29T18:05:15.388851",
   "version": "2.3.4"
  }
 },
 "nbformat": 4,
 "nbformat_minor": 5
}
